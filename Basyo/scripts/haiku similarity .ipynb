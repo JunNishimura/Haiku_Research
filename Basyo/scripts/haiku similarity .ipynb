{
 "cells": [
  {
   "cell_type": "markdown",
   "metadata": {},
   "source": [
    "# 俳句の類似度を数値化する試み"
   ]
  },
  {
   "cell_type": "markdown",
   "metadata": {},
   "source": [
    "## モチベーション\n",
    "俳句の類似度を計算できるようになると以下のようなことが可能となる。\n",
    "- 作者不明の俳句に対する作者推定\n",
    "- 自分で作った俳句がどの俳人の作風に似ているかの判定\n",
    "\n",
    "## アプローチ方法\n",
    "そもそも俳句は何をもって似ていると言えるだろうか？\n",
    "- 構造の類似性\n",
    "<br>切れ字の位置\n",
    "- 意味の類似性\n",
    "<br>単語の意味、季節\n",
    "- 音の類似性\n",
    "\n",
    "\n",
    "\n",
    "## 類似度計算の手法\n",
    "文章をベクトル化して、そのベクトルの類似性を求めることになることには変わらないと思う。\n",
    "<br>問題は何をどうやってベクトル化するという事。\n",
    "\n",
    "<br>【参考資料】\n",
    "<br>[はじめての自然言語処理 第1回 類似文書検索の手法と精度比較](https://www.ogis-ri.co.jp/otc/hiroba/technical/similar-document-search/part1.html)\n",
    "\n",
    "- 単語の出現回数によるベクトル化\n",
    "1. TF-IDF\n",
    "2. LSI\n",
    "- 単語の分散表現を使用したベクトル化\n",
    "1. word2vec\n",
    "2. \n",
    "- 文章の分散表現を使用したベクトル化\n",
    "1. doc2vec\n",
    "2. sent2vec\n",
    "\n",
    "\n",
    "## メモ\n",
    "俳句の類似度よりも、大量の俳句から作者の作風を抽出するみたいなアプローチの方が自分がやりたいことに合致しているかもね。"
   ]
  },
  {
   "cell_type": "code",
   "execution_count": null,
   "metadata": {},
   "outputs": [],
   "source": []
  }
 ],
 "metadata": {
  "kernelspec": {
   "display_name": "Python 3",
   "language": "python",
   "name": "python3"
  },
  "language_info": {
   "codemirror_mode": {
    "name": "ipython",
    "version": 3
   },
   "file_extension": ".py",
   "mimetype": "text/x-python",
   "name": "python",
   "nbconvert_exporter": "python",
   "pygments_lexer": "ipython3",
   "version": "3.7.6"
  }
 },
 "nbformat": 4,
 "nbformat_minor": 4
}
