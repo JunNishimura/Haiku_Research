{
 "cells": [
  {
   "cell_type": "markdown",
   "metadata": {},
   "source": [
    "# 俳句の季節当て"
   ]
  },
  {
   "cell_type": "code",
   "execution_count": 1,
   "metadata": {},
   "outputs": [],
   "source": [
    "import pandas as pd"
   ]
  },
  {
   "cell_type": "code",
   "execution_count": 2,
   "metadata": {},
   "outputs": [
    {
     "data": {
      "text/html": [
       "<div>\n",
       "<style scoped>\n",
       "    .dataframe tbody tr th:only-of-type {\n",
       "        vertical-align: middle;\n",
       "    }\n",
       "\n",
       "    .dataframe tbody tr th {\n",
       "        vertical-align: top;\n",
       "    }\n",
       "\n",
       "    .dataframe thead th {\n",
       "        text-align: right;\n",
       "    }\n",
       "</style>\n",
       "<table border=\"1\" class=\"dataframe\">\n",
       "  <thead>\n",
       "    <tr style=\"text-align: right;\">\n",
       "      <th></th>\n",
       "      <th>俳句</th>\n",
       "      <th>季語</th>\n",
       "      <th>季節</th>\n",
       "      <th>作者</th>\n",
       "      <th>分かち書き</th>\n",
       "      <th>名詞</th>\n",
       "      <th>フルネーム</th>\n",
       "    </tr>\n",
       "  </thead>\n",
       "  <tbody>\n",
       "    <tr>\n",
       "      <th>0</th>\n",
       "      <td>姥桜さくや老後の思ひ出</td>\n",
       "      <td>NaN</td>\n",
       "      <td>NaN</td>\n",
       "      <td>bashou</td>\n",
       "      <td>姥桜 さく や 老後 の 思ひ 出</td>\n",
       "      <td>姥桜 さく 老後 出</td>\n",
       "      <td>松尾芭蕉</td>\n",
       "    </tr>\n",
       "    <tr>\n",
       "      <th>1</th>\n",
       "      <td>年は人にとらせていつも若夷</td>\n",
       "      <td>NaN</td>\n",
       "      <td>NaN</td>\n",
       "      <td>bashou</td>\n",
       "      <td>年 は 人 に とら せ て いつも 若 夷</td>\n",
       "      <td>年 人 夷</td>\n",
       "      <td>松尾芭蕉</td>\n",
       "    </tr>\n",
       "    <tr>\n",
       "      <th>2</th>\n",
       "      <td>花の顔に晴うてしてや朧月</td>\n",
       "      <td>花</td>\n",
       "      <td>春</td>\n",
       "      <td>bashou</td>\n",
       "      <td>花 の 顔 に 晴 うて し て や 朧月</td>\n",
       "      <td>花 顔 晴 朧月</td>\n",
       "      <td>松尾芭蕉</td>\n",
       "    </tr>\n",
       "    <tr>\n",
       "      <th>3</th>\n",
       "      <td>盛なる梅にす手引風も哉</td>\n",
       "      <td>梅</td>\n",
       "      <td>春</td>\n",
       "      <td>bashou</td>\n",
       "      <td>盛 なる 梅 に す 手引 風 も 哉</td>\n",
       "      <td>盛 梅 手引 風 哉</td>\n",
       "      <td>松尾芭蕉</td>\n",
       "    </tr>\n",
       "    <tr>\n",
       "      <th>4</th>\n",
       "      <td>あち東風や面々さばき柳髪</td>\n",
       "      <td>東風</td>\n",
       "      <td>春</td>\n",
       "      <td>bashou</td>\n",
       "      <td>あ ち 東風 や 面々 さばき 柳 髪</td>\n",
       "      <td>東風 面々 さばき 柳 髪</td>\n",
       "      <td>松尾芭蕉</td>\n",
       "    </tr>\n",
       "  </tbody>\n",
       "</table>\n",
       "</div>"
      ],
      "text/plain": [
       "              俳句   季語   季節      作者                   分かち書き             名詞  \\\n",
       "0    姥桜さくや老後の思ひ出  NaN  NaN  bashou       姥桜 さく や 老後 の 思ひ 出     姥桜 さく 老後 出   \n",
       "1  年は人にとらせていつも若夷  NaN  NaN  bashou  年 は 人 に とら せ て いつも 若 夷          年 人 夷   \n",
       "2   花の顔に晴うてしてや朧月    花    春  bashou   花 の 顔 に 晴 うて し て や 朧月       花 顔 晴 朧月   \n",
       "3    盛なる梅にす手引風も哉    梅    春  bashou     盛 なる 梅 に す 手引 風 も 哉     盛 梅 手引 風 哉   \n",
       "4   あち東風や面々さばき柳髪   東風    春  bashou     あ ち 東風 や 面々 さばき 柳 髪  東風 面々 さばき 柳 髪   \n",
       "\n",
       "  フルネーム  \n",
       "0  松尾芭蕉  \n",
       "1  松尾芭蕉  \n",
       "2  松尾芭蕉  \n",
       "3  松尾芭蕉  \n",
       "4  松尾芭蕉  "
      ]
     },
     "execution_count": 2,
     "metadata": {},
     "output_type": "execute_result"
    }
   ],
   "source": [
    "haiku_df = pd.read_pickle('../../data/pickles/haiku_df.pickle')\n",
    "haiku_df.head()"
   ]
  },
  {
   "cell_type": "code",
   "execution_count": null,
   "metadata": {},
   "outputs": [],
   "source": []
  }
 ],
 "metadata": {
  "kernelspec": {
   "display_name": "Python 3",
   "language": "python",
   "name": "python3"
  },
  "language_info": {
   "codemirror_mode": {
    "name": "ipython",
    "version": 3
   },
   "file_extension": ".py",
   "mimetype": "text/x-python",
   "name": "python",
   "nbconvert_exporter": "python",
   "pygments_lexer": "ipython3",
   "version": "3.7.6"
  }
 },
 "nbformat": 4,
 "nbformat_minor": 4
}
