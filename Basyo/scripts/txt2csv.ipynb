{
 "cells": [
  {
   "cell_type": "code",
   "execution_count": 1,
   "metadata": {},
   "outputs": [],
   "source": [
    "import pandas as pd\n",
    "import glob"
   ]
  },
  {
   "cell_type": "code",
   "execution_count": 5,
   "metadata": {},
   "outputs": [],
   "source": [
    "haijins = [\n",
    "    'bashou',\n",
    "    'buson',\n",
    "    'issa',\n",
    "    'siki',\n",
    "    'souseki',\n",
    "    'ryunosuke',\n",
    "    'kyoshi',\n",
    "    'housai',\n",
    "    'hekigotoh',\n",
    "    'hisajo',\n",
    "]\n",
    "for haijin in haijins:\n",
    "    path = '../../data/Basyo/%s_raw.txt' % haijin\n",
    "    df = pd.read_csv(path, header=None)\n",
    "    df.columns = ['俳句']\n",
    "    df.to_csv('../../data/Basyo/%s_raw.csv' % haijin, encoding='utf_8_sig')"
   ]
  },
  {
   "cell_type": "code",
   "execution_count": null,
   "metadata": {},
   "outputs": [],
   "source": []
  }
 ],
 "metadata": {
  "kernelspec": {
   "display_name": "Python 3",
   "language": "python",
   "name": "python3"
  },
  "language_info": {
   "codemirror_mode": {
    "name": "ipython",
    "version": 3
   },
   "file_extension": ".py",
   "mimetype": "text/x-python",
   "name": "python",
   "nbconvert_exporter": "python",
   "pygments_lexer": "ipython3",
   "version": "3.7.6"
  }
 },
 "nbformat": 4,
 "nbformat_minor": 4
}
